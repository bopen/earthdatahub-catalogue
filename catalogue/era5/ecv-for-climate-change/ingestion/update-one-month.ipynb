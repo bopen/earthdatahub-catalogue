{
 "cells": [
  {
   "cell_type": "code",
   "execution_count": null,
   "id": "7d2693fa-2c7a-4b6f-af08-15ca2021a625",
   "metadata": {},
   "outputs": [],
   "source": [
    "import os\n",
    "\n",
    "import cdsapi\n",
    "import xarray as xr\n",
    "\n",
    "_ = xr.set_options(keep_attrs=True)\n",
    "os.chdir(os.getenv(\"DATA_VOLUME\", \"../../../..\"))\n",
    "!pwd"
   ]
  },
  {
   "cell_type": "code",
   "execution_count": null,
   "id": "01cca2eb-554e-4ef4-b153-03cadc0a865c",
   "metadata": {},
   "outputs": [],
   "source": [
    "ecv_store = \"s3://edh-root/more-era5/ecv-for-climate-change-1981-2010-anomaly-v0/\"\n",
    "ds = xr.open_dataset(\n",
    "    ecv_store,\n",
    "    engine=\"zarr\",\n",
    ")\n",
    "ds"
   ]
  },
  {
   "cell_type": "code",
   "execution_count": null,
   "id": "92a06947-e39a-44f8-934f-3ab4790455a0",
   "metadata": {},
   "outputs": [],
   "source": [
    "dataset = \"ecv-for-climate-change\"\n",
    "base_request = {\n",
    "        'format': 'zip',\n",
    "        # 'variable': 'surface_air_temperature',\n",
    "        'product_type': 'anomaly',\n",
    "        'climate_reference_period': '1981_2010',\n",
    "        'time_aggregation': '1_month_mean',\n",
    "        # 'year': ['2023'],\n",
    "        # 'month': ['01'],\n",
    "        'origin': 'era5',\n",
    "    }"
   ]
  },
  {
   "cell_type": "code",
   "execution_count": null,
   "id": "8259f1a2-1543-410f-a887-09fa2d155020",
   "metadata": {},
   "outputs": [],
   "source": [
    "year_month = \"2025-09\""
   ]
  },
  {
   "cell_type": "code",
   "execution_count": null,
   "id": "57bb725d-6176-4ec1-9226-16f755764aca",
   "metadata": {},
   "outputs": [],
   "source": [
    "try:\n",
    "    ds.sel(valid_time=year_month)\n",
    "except KeyError:\n",
    "    print(\"OK, data not present\")\n",
    "else:\n",
    "    raise ValueError(\"STOP, the data is already present!\")\n",
    "\n",
    "print(\"LAST DATA IS\", str(ds.valid_time.values[-1])[:7], \"and you are adding\", year_month)"
   ]
  },
  {
   "cell_type": "code",
   "execution_count": null,
   "id": "b9ee7dff-4398-4c47-946c-206703f278d8",
   "metadata": {},
   "outputs": [],
   "source": [
    "year, _, month = year_month.partition(\"-\")\n",
    "year_month_request = base_request | {\"year\": [year], \"month\": [month]}\n",
    "year_month_request"
   ]
  },
  {
   "cell_type": "code",
   "execution_count": null,
   "id": "ec5000c3-db83-427b-9716-3db2ef10c292",
   "metadata": {},
   "outputs": [],
   "source": [
    "client = cdsapi.Client()"
   ]
  },
  {
   "cell_type": "code",
   "execution_count": null,
   "id": "966edf42-ada0-4330-8fa2-7260da1d6740",
   "metadata": {},
   "outputs": [],
   "source": [
    "ecv_0 = [\n",
    "    \"surface_air_temperature\",\n",
    "    \"surface_air_relative_humidity\",\n",
    "    \"sea_ice_cover\"\n",
    "]\n",
    "target_0 = f\"ecv-0-{year_month}\"\n",
    "target_0"
   ]
  },
  {
   "cell_type": "code",
   "execution_count": null,
   "id": "bf90d9b1-30cb-436c-9fb1-bbb5dbbea347",
   "metadata": {},
   "outputs": [],
   "source": [
    "result = client.retrieve(dataset, year_month_request | {\"variable\": ecv_0}, target=target_0 + \".zip\")\n",
    "!unzip -o {target_0}.zip -d {target_0}"
   ]
  },
  {
   "cell_type": "code",
   "execution_count": null,
   "id": "316131ca-0926-4d3e-b322-dd09f4df35d5",
   "metadata": {},
   "outputs": [],
   "source": [
    "ds_ecv_0 = xr.open_mfdataset(f\"{target_0}/*grib\", time_dims=[\"valid_time\"], squeeze=False).isel(number=0, surface=0)\n",
    "ds_ecv_0"
   ]
  },
  {
   "cell_type": "code",
   "execution_count": null,
   "id": "e4662890-6702-4ff5-b59b-d50371fa6945",
   "metadata": {},
   "outputs": [],
   "source": [
    "ecv_6 = [\"precipitation\"]\n",
    "target_6 = f\"ecv-6-{year_month}\"\n",
    "target_6"
   ]
  },
  {
   "cell_type": "code",
   "execution_count": null,
   "id": "745ce72e-0e76-43b8-8681-091562cdf897",
   "metadata": {},
   "outputs": [],
   "source": [
    "result = client.retrieve(dataset, year_month_request | {\"variable\": ecv_6}, target=target_6 + \".zip\")\n",
    "!unzip {target_6}.zip -d {target_6}"
   ]
  },
  {
   "cell_type": "code",
   "execution_count": null,
   "id": "aba33824-0210-4c2a-a8bd-b06484368967",
   "metadata": {},
   "outputs": [],
   "source": [
    "ds_ecv_6 = xr.open_mfdataset(f\"{target_6}/*grib\", time_dims=[\"valid_time\"], squeeze=False).isel(number=0, surface=0)\n",
    "ds_ecv_6 = ds_ecv_6.assign_coords(valid_time=ds_ecv_0.valid_time)\n",
    "ds_ecv_6"
   ]
  },
  {
   "cell_type": "code",
   "execution_count": null,
   "id": "c6c4e850-b1cb-4df5-904f-349ef8b4d1f0",
   "metadata": {},
   "outputs": [],
   "source": [
    "ds_ecv = xr.merge([ds_ecv_0, ds_ecv_6]).drop_vars([\"number\", \"surface\"])\n",
    "ds_ecv"
   ]
  },
  {
   "cell_type": "code",
   "execution_count": null,
   "id": "64156274-5682-444c-b20d-0b398bb80903",
   "metadata": {},
   "outputs": [],
   "source": [
    "#\n",
    "# uncommento to UPDATE PRODUCTION!\n",
    "#\n",
    "\n",
    "ds_ecv.to_zarr(ecv_store, mode=\"a\", append_dim=\"valid_time\")"
   ]
  },
  {
   "cell_type": "code",
   "execution_count": null,
   "id": "b3179bbe-8d9f-44d8-9981-360ba83c268e",
   "metadata": {},
   "outputs": [],
   "source": [
    "!aws s3 ls"
   ]
  },
  {
   "cell_type": "code",
   "execution_count": null,
   "id": "542dd1b8-eefc-4dc9-9f6a-e93d70d1fef4",
   "metadata": {},
   "outputs": [],
   "source": []
  }
 ],
 "metadata": {
  "kernelspec": {
   "display_name": "Python 3 (ipykernel)",
   "language": "python",
   "name": "python3"
  },
  "language_info": {
   "codemirror_mode": {
    "name": "ipython",
    "version": 3
   },
   "file_extension": ".py",
   "mimetype": "text/x-python",
   "name": "python",
   "nbconvert_exporter": "python",
   "pygments_lexer": "ipython3",
   "version": "3.12.11"
  }
 },
 "nbformat": 4,
 "nbformat_minor": 5
}
